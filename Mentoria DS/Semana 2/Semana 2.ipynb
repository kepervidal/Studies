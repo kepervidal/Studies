{
 "cells": [
  {
   "cell_type": "markdown",
   "metadata": {},
   "source": [
    "Crie uma função que encontre o maior valor entre 3 números imputados pelo usuário.\n"
   ]
  },
  {
   "cell_type": "code",
   "execution_count": 20,
   "metadata": {},
   "outputs": [
    {
     "name": "stdout",
     "output_type": "stream",
     "text": [
      "500\n"
     ]
    }
   ],
   "source": [
    "def maior(x,y,z):\n",
    "    if (x > y and x > z):\n",
    "        print(x)\n",
    "    elif (y > x and y > z):\n",
    "        print(y)  \n",
    "    elif (z> x and z > y): \n",
    "        print(z)\n",
    "\n",
    "maior(100,500,300)        "
   ]
  },
  {
   "cell_type": "markdown",
   "metadata": {},
   "source": [
    "Crie uma função que identifique se duas ou mais palavras inseridas pelo usuário são anagramas.\n",
    "\n"
   ]
  },
  {
   "cell_type": "code",
   "execution_count": 9,
   "metadata": {},
   "outputs": [
    {
     "name": "stdout",
     "output_type": "stream",
     "text": [
      "True\n"
     ]
    }
   ],
   "source": [
    "def anagrama(s1,s2):\n",
    "    lista = list(s2)\n",
    "\n",
    "    pos1 = 0\n",
    "    OK = True\n",
    "\n",
    "    while pos1 < len(s1) and OK:\n",
    "        pos2 = 0\n",
    "        encontrado = False\n",
    "        while pos2 < len(lista) and not encontrado:\n",
    "            if s1[pos1] == lista[pos2]:\n",
    "                encontrado = True\n",
    "            else:\n",
    "                pos2 = pos2 + 1\n",
    "\n",
    "        if encontrado:\n",
    "            lista[pos2] = None\n",
    "        else:\n",
    "            aindaOK = False\n",
    "\n",
    "        pos1 = pos1 + 1\n",
    "\n",
    "    return OK\n",
    "\n",
    "\n",
    "print(anagrama('ananana','nanana'))\n"
   ]
  },
  {
   "cell_type": "markdown",
   "metadata": {},
   "source": [
    "\n",
    "Crie uma função que retorne a contagem de consoantes e vogais de uma palavra imputada pelo usuário."
   ]
  },
  {
   "cell_type": "code",
   "execution_count": 5,
   "metadata": {},
   "outputs": [
    {
     "name": "stdout",
     "output_type": "stream",
     "text": [
      "{'a': 3, 'o': 1}\n"
     ]
    }
   ],
   "source": [
    "def conta_vogais(string):\n",
    "    string = string.lower() # para que a comparação não seja sensível a maiuscula/minuscula\n",
    "    result = {}\n",
    "    vogais = 'aeiou'\n",
    "    for i in vogais:\n",
    "        if i in string:\n",
    "            result[i] = string.count(i)\n",
    "    return result\n",
    "\n",
    "print(conta_vogais('olaaa'))"
   ]
  },
  {
   "cell_type": "markdown",
   "metadata": {},
   "source": [
    "7)\tCrie uma lista com os 100 mil primeiros números naturais na sequência (i.e., de 1 à 100000). Salve esta lista em um objeto com nome cem_mil_lista. Inicie então uma lista vazia chamada numeros_pares. A partir da lista cem_mil_lista, salve todos os valores pares na lista numeros_pares. Resolva este exercício de duas formas: a primeira utilizando um loop com o for e a segunda com list comprehension. Compare o tempo de execução das duas.\n",
    "* Para comparar o tempo de execução, insira na primeira linha da célula %%time.\n"
   ]
  },
  {
   "cell_type": "code",
   "execution_count": 67,
   "metadata": {},
   "outputs": [
    {
     "name": "stdout",
     "output_type": "stream",
     "text": [
      "CPU times: total: 0 ns\n",
      "Wall time: 12 ms\n"
     ]
    }
   ],
   "source": [
    "%%time \n",
    "\n",
    "cem_mil_lista = list(range(1,100000))\n",
    "numeros_pares=[]\n",
    "\n",
    "for pares in cem_mil_lista:\n",
    "    if pares % 2 == 0:\n",
    "        numeros_pares.append(pares)\n",
    "\n",
    "#print(numeros_pares)\n",
    "      \n",
    "    \n",
    "\n"
   ]
  },
  {
   "cell_type": "code",
   "execution_count": 70,
   "metadata": {},
   "outputs": [
    {
     "name": "stdout",
     "output_type": "stream",
     "text": [
      "CPU times: total: 15.6 ms\n",
      "Wall time: 8.98 ms\n"
     ]
    }
   ],
   "source": [
    "%%time \n",
    "\n",
    "cem_mil_lista = list(range(1,100000))\n",
    "numeros_pares=[pares for pares in cem_mil_lista if pares % 2 == 0]\n",
    "#print(numeros_pares)\n",
    "      \n",
    "\n",
    "\n"
   ]
  },
  {
   "cell_type": "markdown",
   "metadata": {},
   "source": [
    "9)\tEscreva um programa em Python para encontrar os números que são divisíveis por 7 e múltiplos de 5, entre 1500 e 2700 (ambos incluídos). Em outras palavras, combine o que você aprendeu de loop e condicional para criar uma lista de valores que atendam às condições exigidas"
   ]
  },
  {
   "cell_type": "code",
   "execution_count": 79,
   "metadata": {},
   "outputs": [],
   "source": [
    "numeros = list(range(1500,2700))\n",
    "\n",
    "div2 = []\n",
    "\n",
    "def divisiveis (numero):\n",
    "    for div in numero:\n",
    "        if div % 5 ==0 and  div % 7 == 0:\n",
    "            div2.append(div)\n",
    "    return div2\n",
    "\n",
    "\n",
    "#divisiveis(numeros)\n"
   ]
  },
  {
   "cell_type": "markdown",
   "metadata": {},
   "source": [
    "10)\tEscreva um programa Python para construir o padrão a seguir, usando um número de loop aninhado. Ir para o editor\n",
    "Saída esperada:\n",
    "1\n",
    "22\n",
    "333\n",
    "4444\n",
    "55555\n",
    "666666\n",
    "7777777\n",
    "88888888\n",
    "999999999\n"
   ]
  },
  {
   "cell_type": "code",
   "execution_count": 64,
   "metadata": {},
   "outputs": [
    {
     "name": "stdout",
     "output_type": "stream",
     "text": [
      "1\n",
      "22\n",
      "333\n",
      "4444\n",
      "55555\n",
      "666666\n",
      "7777777\n",
      "88888888\n"
     ]
    }
   ],
   "source": [
    "numero = int(input('Coloque o numero'))\n",
    "\n",
    "i = 0\n",
    "for i in range(1,numero+1):\n",
    "    for j in range(1, i+1):\n",
    "        print(i, end='')\n",
    "        \n",
    "    print()    "
   ]
  },
  {
   "cell_type": "markdown",
   "metadata": {},
   "source": [
    "11)\tEscreva um programa em Python para verificar se um alfabeto é uma vogal ou uma consoante. Ir para o editor\n",
    "Saída esperada:\n",
    "Insira uma letra do alfabeto: m\n",
    "m é uma consoante.\n"
   ]
  },
  {
   "cell_type": "code",
   "execution_count": 106,
   "metadata": {},
   "outputs": [
    {
     "name": "stdout",
     "output_type": "stream",
     "text": [
      "s é uma consoante\n"
     ]
    }
   ],
   "source": [
    "letra = str(input('Insira uma letra do alfabeto'))\n",
    "vogais ='aeiou'\n",
    "if letra in vogais:\n",
    "    print (letra, 'é uma vogal' )\n",
    "else:\n",
    "    print( letra,'é uma consoante')"
   ]
  },
  {
   "cell_type": "code",
   "execution_count": 12,
   "metadata": {},
   "outputs": [
    {
     "ename": "SyntaxError",
     "evalue": "unmatched ')' (3782794895.py, line 1)",
     "output_type": "error",
     "traceback": [
      "\u001b[1;36m  Input \u001b[1;32mIn [12]\u001b[1;36m\u001b[0m\n\u001b[1;33m    13)\tCrie um array com 10 números no formato float. Converta-os para o formato inteiro.\u001b[0m\n\u001b[1;37m      ^\u001b[0m\n\u001b[1;31mSyntaxError\u001b[0m\u001b[1;31m:\u001b[0m unmatched ')'\n"
     ]
    }
   ],
   "source": [
    "13)\tCrie um array com 10 números no formato float. Converta-os para o formato inteiro."
   ]
  },
  {
   "cell_type": "code",
   "execution_count": 20,
   "metadata": {},
   "outputs": [
    {
     "data": {
      "text/plain": [
       "dtype('int32')"
      ]
     },
     "execution_count": 20,
     "metadata": {},
     "output_type": "execute_result"
    }
   ],
   "source": [
    "import numpy as np\n",
    "listafloat = np.array([1.00, 2.0, 3.0, 4.0, 5.0, 6.0, 7.0, 8.0, 9.0, 10.0], dtype= float)\n",
    "\n",
    "np.result_type(listafloat)\n",
    "\n",
    "listaint= np.array([listafloat], dtype=int)\n",
    "np.result_type(listaint)"
   ]
  },
  {
   "cell_type": "markdown",
   "metadata": {},
   "source": [
    "14)\tConverta o array abaixo para o formato booleano.\n",
    "a = np.array([1,0,1],[1,1,1],[0,0,0])\n",
    "\n"
   ]
  },
  {
   "cell_type": "code",
   "execution_count": 27,
   "metadata": {},
   "outputs": [
    {
     "name": "stdout",
     "output_type": "stream",
     "text": [
      "[[ True False  True]\n",
      " [ True  True  True]\n",
      " [False False False]]\n"
     ]
    }
   ],
   "source": [
    "a = np.array([[1,0,1],[1,1,1],[0,0,0]], dtype= bool)\n",
    "\n",
    "print(a)"
   ]
  },
  {
   "cell_type": "markdown",
   "metadata": {},
   "source": [
    "15)\tEmpilhe horizontalmente os arrays abaixo.\n",
    "a = np.array([10,20,15],[0,0,20])\n",
    "b = np.array([15,7,3],[5,5,8])\n",
    "\n"
   ]
  },
  {
   "cell_type": "code",
   "execution_count": 43,
   "metadata": {},
   "outputs": [
    {
     "name": "stdout",
     "output_type": "stream",
     "text": [
      "[[10 20 15 15  7  3]\n",
      " [ 0  0 20  5  5  8]]\n"
     ]
    }
   ],
   "source": [
    "a = np.array([[10,20,15],[0,0,20]])\n",
    "b = np.array([[15,7,3],[5,5,8]])\n",
    "\n",
    "print(np.concatenate([a,b], axis = 1))\n"
   ]
  },
  {
   "cell_type": "markdown",
   "metadata": {},
   "source": [
    "16)\tEmpilhe verticalmente os arrays do exercício15."
   ]
  },
  {
   "cell_type": "code",
   "execution_count": 44,
   "metadata": {},
   "outputs": [
    {
     "name": "stdout",
     "output_type": "stream",
     "text": [
      "[[10 20 15]\n",
      " [ 0  0 20]\n",
      " [15  7  3]\n",
      " [ 5  5  8]]\n"
     ]
    }
   ],
   "source": [
    "a = np.array([[10,20,15],[0,0,20]])\n",
    "b = np.array([[15,7,3],[5,5,8]])\n",
    "\n",
    "print(np.concatenate([a,b], axis = 0))"
   ]
  },
  {
   "cell_type": "markdown",
   "metadata": {},
   "source": [
    "17)\tGere uma lista de números inteiros que vão de 0 a 100, de 2 em 2, e, na sequência, converta essa lista em um array."
   ]
  },
  {
   "cell_type": "code",
   "execution_count": 46,
   "metadata": {},
   "outputs": [
    {
     "data": {
      "text/plain": [
       "array([[ 0,  2,  4,  6,  8, 10, 12, 14, 16, 18, 20, 22, 24, 26, 28, 30,\n",
       "        32, 34, 36, 38, 40, 42, 44, 46, 48, 50, 52, 54, 56, 58, 60, 62,\n",
       "        64, 66, 68, 70, 72, 74, 76, 78, 80, 82, 84, 86, 88, 90, 92, 94,\n",
       "        96, 98]])"
      ]
     },
     "execution_count": 46,
     "metadata": {},
     "output_type": "execute_result"
    }
   ],
   "source": [
    "lista =np.arange(0,100,2)\n",
    "\n",
    "lista =np.array([lista])\n",
    "lista"
   ]
  },
  {
   "cell_type": "markdown",
   "metadata": {},
   "source": [
    "18)\tGere uma lista de valores que vão de 5 a 10 de 0.5 em 0.5."
   ]
  },
  {
   "cell_type": "code",
   "execution_count": 47,
   "metadata": {},
   "outputs": [
    {
     "data": {
      "text/plain": [
       "array([5. , 5.5, 6. , 6.5, 7. , 7.5, 8. , 8.5, 9. , 9.5])"
      ]
     },
     "execution_count": 47,
     "metadata": {},
     "output_type": "execute_result"
    }
   ],
   "source": [
    "lista = np.arange(5,10,0.5)\n",
    "\n",
    "lista\n"
   ]
  },
  {
   "cell_type": "markdown",
   "metadata": {},
   "source": [
    "19)\tCrie um array 3x3 cujos valores seguem uma distribuição normal."
   ]
  },
  {
   "cell_type": "code",
   "execution_count": 80,
   "metadata": {},
   "outputs": [
    {
     "data": {
      "text/plain": [
       "array([[-0.44070144, -0.82611822, -0.33809854],\n",
       "       [-0.6820577 , -0.11453541,  2.60302589],\n",
       "       [-1.96759763,  3.86149524,  1.95242578]])"
      ]
     },
     "execution_count": 80,
     "metadata": {},
     "output_type": "execute_result"
    }
   ],
   "source": [
    "lista = np.random.standard_t([1,1,1],[3,3])\n",
    "\n",
    "lista"
   ]
  },
  {
   "cell_type": "code",
   "execution_count": null,
   "metadata": {},
   "outputs": [],
   "source": []
  }
 ],
 "metadata": {
  "interpreter": {
   "hash": "7e6111f7f61c4776462dfedbb9a04afdd97b54943a6a2f004a96a2fdbd356564"
  },
  "kernelspec": {
   "display_name": "Python 3.9.12 64-bit (windows store)",
   "language": "python",
   "name": "python3"
  },
  "language_info": {
   "codemirror_mode": {
    "name": "ipython",
    "version": 3
   },
   "file_extension": ".py",
   "mimetype": "text/x-python",
   "name": "python",
   "nbconvert_exporter": "python",
   "pygments_lexer": "ipython3",
   "version": "3.9.12"
  },
  "orig_nbformat": 4
 },
 "nbformat": 4,
 "nbformat_minor": 2
}
